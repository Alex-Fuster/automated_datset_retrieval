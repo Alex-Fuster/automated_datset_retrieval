{
 "cells": [
  {
   "cell_type": "markdown",
   "id": "cf5e1451",
   "metadata": {},
   "source": [
    "# Automatic classification"
   ]
  },
  {
   "cell_type": "code",
   "execution_count": 1,
   "id": "18412199",
   "metadata": {},
   "outputs": [
    {
     "data": {
      "text/plain": [
       "180"
      ]
     },
     "execution_count": 1,
     "metadata": {},
     "output_type": "execute_result"
    }
   ],
   "source": [
    "import pandas as pd\n",
    "\n",
    "dataset = pd.read_excel(\"dataset.xlsx\")\n",
    "\n",
    "# Semantic Scholar abstract do not include the title -> concatenation of title and abstract\n",
    "dataset.loc[dataset['source'] == 'semantic_scholar', 'full_text'] = dataset.loc[dataset['source'] == 'semantic_scholar', 'title'] + ' ' + dataset.loc[dataset['source'] == 'semantic_scholar', 'full_text']\n",
    "len(dataset.index)"
   ]
  },
  {
   "cell_type": "markdown",
   "id": "1e47cd93",
   "metadata": {},
   "source": [
    "## Text cleaning"
   ]
  },
  {
   "cell_type": "code",
   "execution_count": 2,
   "id": "fb51cc8f",
   "metadata": {},
   "outputs": [],
   "source": [
    "import re\n",
    "def clean(x) :\n",
    "    x = str(x)\n",
    "    reg = r'<[^>]*>'\n",
    "    x = re.sub(reg, ' ', x)\n",
    "    for y in ['_x000D_\\n', '\\xa0', '\\t'] :\n",
    "        x = re.sub(y, ' ', x)   \n",
    "    x = ' '.join(x.split())\n",
    "    return(x)\n",
    "\n",
    "dataset['full_text_clean'] = dataset['full_text'].apply(lambda x:clean(x))"
   ]
  },
  {
   "cell_type": "markdown",
   "id": "c64ac4f2",
   "metadata": {},
   "source": [
    "## Supervised classification (linear SVM)"
   ]
  },
  {
   "cell_type": "code",
   "execution_count": 5,
   "id": "d68b0d4b",
   "metadata": {},
   "outputs": [],
   "source": [
    "from sklearn.feature_extraction.text import TfidfVectorizer\n",
    "from sklearn.svm import SVC, LinearSVC\n",
    "from sklearn.pipeline import Pipeline\n",
    "import numpy as np\n",
    "from sklearn.model_selection import train_test_split, cross_val_score\n",
    "from sklearn.metrics import precision_recall_fscore_support, classification_report\n",
    "from sklearn.model_selection import cross_val_predict, StratifiedKFold"
   ]
  },
  {
   "cell_type": "markdown",
   "id": "1255f751",
   "metadata": {},
   "source": [
    "### Classification of MC_relevance category"
   ]
  },
  {
   "cell_type": "code",
   "execution_count": 6,
   "id": "1379cb4a",
   "metadata": {},
   "outputs": [
    {
     "data": {
      "text/plain": [
       "Counter({'X': 117, 'H': 63})"
      ]
     },
     "execution_count": 6,
     "metadata": {},
     "output_type": "execute_result"
    }
   ],
   "source": [
    "from collections import Counter\n",
    "\n",
    "# Binarize category\n",
    "y = dataset['MC_relevance'].tolist() \n",
    "y = [x.replace(\"L\", \"X\") for x in y]\n",
    "y = [x.replace(\"M\", \"H\") for x in y]\n",
    "Counter(y)"
   ]
  },
  {
   "cell_type": "code",
   "execution_count": 7,
   "id": "7c88e044",
   "metadata": {},
   "outputs": [
    {
     "name": "stdout",
     "output_type": "stream",
     "text": [
      "Linear SVC Metrics:\n",
      "Classification Report:\n",
      "              precision    recall  f1-score   support\n",
      "\n",
      "           H       0.54      0.43      0.48        63\n",
      "           X       0.72      0.80      0.76       117\n",
      "\n",
      "    accuracy                           0.67       180\n",
      "   macro avg       0.63      0.62      0.62       180\n",
      "weighted avg       0.66      0.67      0.66       180\n",
      "\n"
     ]
    }
   ],
   "source": [
    "# Texts to vectorize\n",
    "X = dataset['full_text_clean'].tolist() \n",
    "\n",
    "# Initialize TF-IDF Vectorizer\n",
    "tfidf = TfidfVectorizer(stop_words='english', ngram_range=(1, 2), min_df=3)  # Adjust min_df for your dataset\n",
    "\n",
    "# Convert texts to TF-IDF matrix\n",
    "X_tfidf = tfidf.fit_transform(X)\n",
    "\n",
    "# Initialize models\n",
    "svc_model = LinearSVC(class_weight='balanced')\n",
    "\n",
    "def calculate_metrics(model, X, y, cv= 5):\n",
    "    y_pred = cross_val_predict(model, X, y, cv=cv)\n",
    "    precision, recall, f1, _ = precision_recall_fscore_support(y, y_pred, average=None)\n",
    "    \n",
    "    print(\"Classification Report:\")\n",
    "    print(classification_report(y, y_pred))\n",
    "\n",
    "    return precision, recall, f1\n",
    "\n",
    "# Evaluate Linear SVC\n",
    "print(\"Linear SVC Metrics:\")\n",
    "svc_precision, svc_recall, svc_f1 = calculate_metrics(svc_model, X_tfidf, y)"
   ]
  },
  {
   "cell_type": "code",
   "execution_count": 8,
   "id": "dcff30ad",
   "metadata": {},
   "outputs": [
    {
     "name": "stdout",
     "output_type": "stream",
     "text": [
      "             Feature  Coefficient  Importance\n",
      "2732            tree    -0.947472    0.947472\n",
      "272           arctic    -0.887889    0.887889\n",
      "474          changes    -0.829692    0.829692\n",
      "1151         genetic    -0.824693    0.824693\n",
      "1972      population    -0.823669    0.823669\n",
      "496          climate    -0.771517    0.771517\n",
      "1657       migratory    -0.762063    0.762063\n",
      "1738            nest    -0.711197    0.711197\n",
      "1047            fish     0.683832    0.683832\n",
      "472           change    -0.669957    0.669957\n",
      "1893       peatlands    -0.665610    0.665610\n",
      "1639          method     0.625150    0.625150\n",
      "2536           stand    -0.620132    0.620132\n",
      "1716           natal    -0.617330    0.617330\n",
      "387   boreal forests    -0.608343    0.608343\n",
      "274            areas    -0.597297    0.597297\n",
      "1025         females    -0.589724    0.589724\n",
      "363     biodiversity    -0.580275    0.580275\n",
      "2136           range    -0.574546    0.574546\n",
      "2878            wood     0.573972    0.573972\n"
     ]
    }
   ],
   "source": [
    "import numpy as np\n",
    "mod = LinearSVC(class_weight = 'balanced').fit(X_tfidf, y )\n",
    "\n",
    "# Retrieve feature names (words) from TF-IDF vectorizer\n",
    "feature_names = np.array(tfidf.get_feature_names_out())\n",
    "\n",
    "# Retrieve coefficients from the SVC model\n",
    "coefficients = mod.coef_.flatten()\n",
    "\n",
    "# Create a DataFrame with the words and their coefficients\n",
    "feature_importance = pd.DataFrame({\n",
    "    'Feature': feature_names,\n",
    "    'Coefficient': coefficients\n",
    "})\n",
    "\n",
    "# Sort words by coefficient size\n",
    "feature_importance['Importance'] = np.abs(feature_importance['Coefficient'])\n",
    "feature_importance = feature_importance.sort_values(by='Importance', ascending=False)\n",
    "\n",
    "# Display the most important words\n",
    "print(feature_importance.head(20))  "
   ]
  },
  {
   "cell_type": "markdown",
   "id": "1462b423",
   "metadata": {},
   "source": [
    "### Classification of MC_relevance_mod category"
   ]
  },
  {
   "cell_type": "code",
   "execution_count": 9,
   "id": "fa4de959",
   "metadata": {},
   "outputs": [
    {
     "data": {
      "text/plain": [
       "Counter({'X': 82, 'H': 98})"
      ]
     },
     "execution_count": 9,
     "metadata": {},
     "output_type": "execute_result"
    }
   ],
   "source": [
    "# Binarize category\n",
    "y = dataset['MC_relevance_modifier'].tolist() \n",
    "y = [x.replace(\"L\", \"X\") for x in y]\n",
    "y = [x.replace(\"M\", \"H\") for x in y]\n",
    "Counter(y)"
   ]
  },
  {
   "cell_type": "code",
   "execution_count": 10,
   "id": "a83b1036",
   "metadata": {},
   "outputs": [
    {
     "name": "stdout",
     "output_type": "stream",
     "text": [
      "Linear SVC Metrics:\n",
      "Classification Report:\n",
      "              precision    recall  f1-score   support\n",
      "\n",
      "           H       0.57      0.57      0.57        98\n",
      "           X       0.48      0.48      0.48        82\n",
      "\n",
      "    accuracy                           0.53       180\n",
      "   macro avg       0.52      0.52      0.52       180\n",
      "weighted avg       0.53      0.53      0.53       180\n",
      "\n"
     ]
    }
   ],
   "source": [
    "# Texts to vectorize\n",
    "X = dataset['full_text_clean'].tolist() \n",
    "\n",
    "# Initialize TF-IDF Vectorizer\n",
    "tfidf = TfidfVectorizer(stop_words='english', ngram_range=(1, 2), min_df=3)  # Adjust min_df for your dataset\n",
    "\n",
    "# Convert texts to TF-IDF matrix\n",
    "X_tfidf = tfidf.fit_transform(X)\n",
    "\n",
    "# Initialize models\n",
    "svc_model = LinearSVC(class_weight='balanced')\n",
    "\n",
    "def calculate_metrics(model, X, y, cv= 5):\n",
    "    y_pred = cross_val_predict(model, X, y, cv=cv)\n",
    "    precision, recall, f1, _ = precision_recall_fscore_support(y, y_pred, average=None)\n",
    "    \n",
    "    print(\"Classification Report:\")\n",
    "    print(classification_report(y, y_pred))\n",
    "\n",
    "    return precision, recall, f1\n",
    "\n",
    "# Evaluate Linear SVC\n",
    "print(\"Linear SVC Metrics:\")\n",
    "svc_precision, svc_recall, svc_f1 = calculate_metrics(svc_model, X_tfidf, y)"
   ]
  },
  {
   "cell_type": "code",
   "execution_count": 11,
   "id": "58127f5d",
   "metadata": {},
   "outputs": [
    {
     "name": "stdout",
     "output_type": "stream",
     "text": [
      "          Feature  Coefficient  Importance\n",
      "2732         tree    -1.143905    1.143905\n",
      "2353         seed     0.911526    0.911526\n",
      "2136        range    -0.726287    0.726287\n",
      "1044          fir     0.719595    0.719595\n",
      "447         carex    -0.718494    0.718494\n",
      "1047         fish     0.703840    0.703840\n",
      "1972   population    -0.702008    0.702008\n",
      "2878         wood     0.677389    0.677389\n",
      "1980  populations     0.674325    0.674325\n",
      "272        arctic    -0.655570    0.655570\n",
      "2302         root     0.651785    0.651785\n",
      "2254   resistance     0.651414    0.651414\n",
      "2425         site     0.641023    0.641023\n",
      "2905  zooplankton    -0.639594    0.639594\n",
      "2778        urban    -0.638602    0.638602\n",
      "1151      genetic    -0.620718    0.620718\n",
      "1063       floral    -0.616217    0.616217\n",
      "474       changes    -0.605517    0.605517\n",
      "2346     seasonal    -0.580158    0.580158\n",
      "1639       method     0.579147    0.579147\n"
     ]
    }
   ],
   "source": [
    "import numpy as np\n",
    "mod = LinearSVC(class_weight = 'balanced').fit(X_tfidf, y )\n",
    "\n",
    "# Retrieve feature names (words) from TF-IDF vectorizer\n",
    "feature_names = np.array(tfidf.get_feature_names_out())\n",
    "\n",
    "# Retrieve coefficients from the SVC model\n",
    "coefficients = mod.coef_.flatten()\n",
    "\n",
    "# Create a DataFrame with the words and their coefficients\n",
    "feature_importance = pd.DataFrame({\n",
    "    'Feature': feature_names,\n",
    "    'Coefficient': coefficients\n",
    "})\n",
    "\n",
    "# Sort words by coefficient size\n",
    "feature_importance['Importance'] = np.abs(feature_importance['Coefficient'])\n",
    "feature_importance = feature_importance.sort_values(by='Importance', ascending=False)\n",
    "\n",
    "# Display the most important words\n",
    "print(feature_importance.head(20)) "
   ]
  },
  {
   "cell_type": "code",
   "execution_count": null,
   "id": "55931250",
   "metadata": {},
   "outputs": [],
   "source": []
  }
 ],
 "metadata": {
  "kernelspec": {
   "display_name": "Python 3 (ipykernel)",
   "language": "python",
   "name": "python3"
  },
  "language_info": {
   "codemirror_mode": {
    "name": "ipython",
    "version": 3
   },
   "file_extension": ".py",
   "mimetype": "text/x-python",
   "name": "python",
   "nbconvert_exporter": "python",
   "pygments_lexer": "ipython3",
   "version": "3.10.9"
  }
 },
 "nbformat": 4,
 "nbformat_minor": 5
}
